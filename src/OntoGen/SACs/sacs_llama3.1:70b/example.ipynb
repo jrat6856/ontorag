{
 "cells": [
  {
   "cell_type": "code",
   "execution_count": 4,
   "metadata": {},
   "outputs": [],
   "source": [
    "from tree import Tree\n",
    "import pickle"
   ]
  },
  {
   "cell_type": "code",
   "execution_count": 5,
   "metadata": {},
   "outputs": [],
   "source": [
    "K = 0  # Iteration number\n",
    "file = f\"wordmap_{K}.pkl\""
   ]
  },
  {
   "cell_type": "code",
   "execution_count": 7,
   "metadata": {},
   "outputs": [],
   "source": [
    "wordmap = pickle.load(open(file, \"rb\"))\n",
    "tree = wordmap[\"Thing\"]"
   ]
  },
  {
   "cell_type": "code",
   "execution_count": 13,
   "metadata": {},
   "outputs": [
    {
     "name": "stdout",
     "output_type": "stream",
     "text": [
      "Depth:  5\n",
      "Number of leaves:  1151\n",
      "Number of nodes:  1188\n"
     ]
    }
   ],
   "source": [
    "print(\"Depth: \", tree.get_depth())\n",
    "leaves = set(tree.get_leaf_nodes()) # these functions return repetitions so we use set \n",
    "nodes = set(tree.get_nodes_list())\n",
    "print(\"Number of leaves: \", len(leaves))\n",
    "print(\"Number of nodes: \", len(nodes))"
   ]
  },
  {
   "cell_type": "code",
   "execution_count": 18,
   "metadata": {},
   "outputs": [
    {
     "name": "stdout",
     "output_type": "stream",
     "text": [
      "Catalyst synonyms:  ['Catalyst', 'Catalysts', 'catalysts']\n",
      "Number of children of Catalyst:  65\n",
      "Number of nodes in the subtree of Catalyst:  102\n"
     ]
    }
   ],
   "source": [
    "# get catalyst node\n",
    "catalyst = tree.get_node(\"Catalyst\")\n",
    "print(\"Catalyst synonyms: \", catalyst.synonyms)\n",
    "print(\"Number of children of Catalyst: \", len(catalyst.children))\n",
    "catalyst_subtree_nodes = set(catalyst.list_all_childs())\n",
    "print(\"Number of nodes in the subtree of Catalyst: \", len(catalyst_subtree_nodes))"
   ]
  }
 ],
 "metadata": {
  "kernelspec": {
   "display_name": "base",
   "language": "python",
   "name": "python3"
  },
  "language_info": {
   "codemirror_mode": {
    "name": "ipython",
    "version": 3
   },
   "file_extension": ".py",
   "mimetype": "text/x-python",
   "name": "python",
   "nbconvert_exporter": "python",
   "pygments_lexer": "ipython3",
   "version": "3.10.12"
  }
 },
 "nbformat": 4,
 "nbformat_minor": 2
}
